{
 "cells": [
  {
   "cell_type": "code",
   "execution_count": 1,
   "metadata": {},
   "outputs": [
    {
     "data": {
      "text/plain": [
       "'c:\\\\Users\\\\Marina\\\\Desktop\\\\ML Operations\\\\21 - Tutorial - Complete End to End Deep Learning Project With MLFLOW,DVC And Deployment\\\\MLOps-project-Kidney-Disease-MLFlow-CICD-DVC\\\\research'"
      ]
     },
     "execution_count": 1,
     "metadata": {},
     "output_type": "execute_result"
    }
   ],
   "source": [
    "import os\n",
    "%pwd"
   ]
  },
  {
   "cell_type": "code",
   "execution_count": 2,
   "metadata": {},
   "outputs": [
    {
     "data": {
      "text/plain": [
       "'c:\\\\Users\\\\Marina\\\\Desktop\\\\ML Operations\\\\21 - Tutorial - Complete End to End Deep Learning Project With MLFLOW,DVC And Deployment\\\\MLOps-project-Kidney-Disease-MLFlow-CICD-DVC'"
      ]
     },
     "execution_count": 2,
     "metadata": {},
     "output_type": "execute_result"
    }
   ],
   "source": [
    "os.chdir(\"../\")\n",
    "%pwd"
   ]
  },
  {
   "cell_type": "markdown",
   "metadata": {},
   "source": [
    "Vá para o DagsHub e conecte com o Repositório do Github"
   ]
  },
  {
   "cell_type": "code",
   "execution_count": 3,
   "metadata": {},
   "outputs": [
    {
     "name": "stdout",
     "output_type": "stream",
     "text": [
      "Requirement already satisfied: dagshub in c:\\users\\marina\\.conda\\envs\\env_mlops_kidney_project\\lib\\site-packages (0.3.40)\n",
      "Requirement already satisfied: PyYAML>=5 in c:\\users\\marina\\.conda\\envs\\env_mlops_kidney_project\\lib\\site-packages (from dagshub) (6.0.2)\n",
      "Requirement already satisfied: appdirs>=1.4.4 in c:\\users\\marina\\.conda\\envs\\env_mlops_kidney_project\\lib\\site-packages (from dagshub) (1.4.4)\n",
      "Requirement already satisfied: click>=8.0.4 in c:\\users\\marina\\.conda\\envs\\env_mlops_kidney_project\\lib\\site-packages (from dagshub) (8.1.7)\n",
      "Requirement already satisfied: httpx>=0.23.0 in c:\\users\\marina\\.conda\\envs\\env_mlops_kidney_project\\lib\\site-packages (from dagshub) (0.27.2)\n",
      "Requirement already satisfied: GitPython>=3.1.29 in c:\\users\\marina\\.conda\\envs\\env_mlops_kidney_project\\lib\\site-packages (from dagshub) (3.1.43)\n",
      "Requirement already satisfied: rich>=13.1.0 in c:\\users\\marina\\.conda\\envs\\env_mlops_kidney_project\\lib\\site-packages (from dagshub) (13.9.2)\n",
      "Requirement already satisfied: dacite~=1.6.0 in c:\\users\\marina\\.conda\\envs\\env_mlops_kidney_project\\lib\\site-packages (from dagshub) (1.6.0)\n",
      "Requirement already satisfied: tenacity>=8.2.2 in c:\\users\\marina\\.conda\\envs\\env_mlops_kidney_project\\lib\\site-packages (from dagshub) (9.0.0)\n",
      "Requirement already satisfied: gql[requests] in c:\\users\\marina\\.conda\\envs\\env_mlops_kidney_project\\lib\\site-packages (from dagshub) (3.5.0)\n",
      "Requirement already satisfied: dataclasses-json in c:\\users\\marina\\.conda\\envs\\env_mlops_kidney_project\\lib\\site-packages (from dagshub) (0.6.7)\n",
      "Requirement already satisfied: pandas in c:\\users\\marina\\.conda\\envs\\env_mlops_kidney_project\\lib\\site-packages (from dagshub) (2.0.3)\n",
      "Requirement already satisfied: treelib>=1.6.4 in c:\\users\\marina\\.conda\\envs\\env_mlops_kidney_project\\lib\\site-packages (from dagshub) (1.7.0)\n",
      "Requirement already satisfied: pathvalidate>=3.0.0 in c:\\users\\marina\\.conda\\envs\\env_mlops_kidney_project\\lib\\site-packages (from dagshub) (3.2.1)\n",
      "Requirement already satisfied: python-dateutil in c:\\users\\marina\\.conda\\envs\\env_mlops_kidney_project\\lib\\site-packages (from dagshub) (2.9.0.post0)\n",
      "Requirement already satisfied: boto3 in c:\\users\\marina\\.conda\\envs\\env_mlops_kidney_project\\lib\\site-packages (from dagshub) (1.35.46)\n",
      "Requirement already satisfied: dagshub-annotation-converter>=0.1.0 in c:\\users\\marina\\.conda\\envs\\env_mlops_kidney_project\\lib\\site-packages (from dagshub) (0.1.1)\n",
      "Requirement already satisfied: colorama in c:\\users\\marina\\.conda\\envs\\env_mlops_kidney_project\\lib\\site-packages (from click>=8.0.4->dagshub) (0.4.6)\n",
      "Requirement already satisfied: lxml in c:\\users\\marina\\.conda\\envs\\env_mlops_kidney_project\\lib\\site-packages (from dagshub-annotation-converter>=0.1.0->dagshub) (5.3.0)\n",
      "Requirement already satisfied: pillow in c:\\users\\marina\\.conda\\envs\\env_mlops_kidney_project\\lib\\site-packages (from dagshub-annotation-converter>=0.1.0->dagshub) (10.4.0)\n",
      "Requirement already satisfied: pydantic>=2.0.0 in c:\\users\\marina\\.conda\\envs\\env_mlops_kidney_project\\lib\\site-packages (from dagshub-annotation-converter>=0.1.0->dagshub) (2.9.2)\n",
      "Requirement already satisfied: typing-extensions in c:\\users\\marina\\.conda\\envs\\env_mlops_kidney_project\\lib\\site-packages (from dagshub-annotation-converter>=0.1.0->dagshub) (4.12.2)\n",
      "Requirement already satisfied: gitdb<5,>=4.0.1 in c:\\users\\marina\\.conda\\envs\\env_mlops_kidney_project\\lib\\site-packages (from GitPython>=3.1.29->dagshub) (4.0.11)\n",
      "Requirement already satisfied: anyio in c:\\users\\marina\\.conda\\envs\\env_mlops_kidney_project\\lib\\site-packages (from httpx>=0.23.0->dagshub) (4.5.2)\n",
      "Requirement already satisfied: certifi in c:\\users\\marina\\.conda\\envs\\env_mlops_kidney_project\\lib\\site-packages (from httpx>=0.23.0->dagshub) (2024.8.30)\n",
      "Requirement already satisfied: httpcore==1.* in c:\\users\\marina\\.conda\\envs\\env_mlops_kidney_project\\lib\\site-packages (from httpx>=0.23.0->dagshub) (1.0.6)\n",
      "Requirement already satisfied: idna in c:\\users\\marina\\.conda\\envs\\env_mlops_kidney_project\\lib\\site-packages (from httpx>=0.23.0->dagshub) (3.10)\n",
      "Requirement already satisfied: sniffio in c:\\users\\marina\\.conda\\envs\\env_mlops_kidney_project\\lib\\site-packages (from httpx>=0.23.0->dagshub) (1.3.1)\n",
      "Requirement already satisfied: h11<0.15,>=0.13 in c:\\users\\marina\\.conda\\envs\\env_mlops_kidney_project\\lib\\site-packages (from httpcore==1.*->httpx>=0.23.0->dagshub) (0.14.0)\n",
      "Requirement already satisfied: markdown-it-py>=2.2.0 in c:\\users\\marina\\.conda\\envs\\env_mlops_kidney_project\\lib\\site-packages (from rich>=13.1.0->dagshub) (3.0.0)\n",
      "Requirement already satisfied: pygments<3.0.0,>=2.13.0 in c:\\users\\marina\\.conda\\envs\\env_mlops_kidney_project\\lib\\site-packages (from rich>=13.1.0->dagshub) (2.18.0)\n",
      "Requirement already satisfied: six in c:\\users\\marina\\.conda\\envs\\env_mlops_kidney_project\\lib\\site-packages (from treelib>=1.6.4->dagshub) (1.16.0)\n",
      "Requirement already satisfied: botocore<1.36.0,>=1.35.46 in c:\\users\\marina\\.conda\\envs\\env_mlops_kidney_project\\lib\\site-packages (from boto3->dagshub) (1.35.46)\n",
      "Requirement already satisfied: jmespath<2.0.0,>=0.7.1 in c:\\users\\marina\\.conda\\envs\\env_mlops_kidney_project\\lib\\site-packages (from boto3->dagshub) (1.0.1)\n",
      "Requirement already satisfied: s3transfer<0.11.0,>=0.10.0 in c:\\users\\marina\\.conda\\envs\\env_mlops_kidney_project\\lib\\site-packages (from boto3->dagshub) (0.10.3)\n",
      "Requirement already satisfied: marshmallow<4.0.0,>=3.18.0 in c:\\users\\marina\\.conda\\envs\\env_mlops_kidney_project\\lib\\site-packages (from dataclasses-json->dagshub) (3.22.0)\n",
      "Requirement already satisfied: typing-inspect<1,>=0.4.0 in c:\\users\\marina\\.conda\\envs\\env_mlops_kidney_project\\lib\\site-packages (from dataclasses-json->dagshub) (0.9.0)\n",
      "Requirement already satisfied: graphql-core<3.3,>=3.2 in c:\\users\\marina\\.conda\\envs\\env_mlops_kidney_project\\lib\\site-packages (from gql[requests]->dagshub) (3.2.5)\n",
      "Requirement already satisfied: yarl<2.0,>=1.6 in c:\\users\\marina\\.conda\\envs\\env_mlops_kidney_project\\lib\\site-packages (from gql[requests]->dagshub) (1.15.2)\n",
      "Requirement already satisfied: backoff<3.0,>=1.11.1 in c:\\users\\marina\\.conda\\envs\\env_mlops_kidney_project\\lib\\site-packages (from gql[requests]->dagshub) (2.2.1)\n",
      "Requirement already satisfied: requests<3,>=2.26 in c:\\users\\marina\\.conda\\envs\\env_mlops_kidney_project\\lib\\site-packages (from gql[requests]->dagshub) (2.32.3)\n",
      "Requirement already satisfied: requests-toolbelt<2,>=1.0.0 in c:\\users\\marina\\.conda\\envs\\env_mlops_kidney_project\\lib\\site-packages (from gql[requests]->dagshub) (1.0.0)\n",
      "Requirement already satisfied: pytz>=2020.1 in c:\\users\\marina\\.conda\\envs\\env_mlops_kidney_project\\lib\\site-packages (from pandas->dagshub) (2022.7.1)\n",
      "Requirement already satisfied: tzdata>=2022.1 in c:\\users\\marina\\.conda\\envs\\env_mlops_kidney_project\\lib\\site-packages (from pandas->dagshub) (2024.2)\n",
      "Requirement already satisfied: numpy>=1.20.3 in c:\\users\\marina\\.conda\\envs\\env_mlops_kidney_project\\lib\\site-packages (from pandas->dagshub) (1.23.5)\n",
      "Requirement already satisfied: exceptiongroup>=1.0.2 in c:\\users\\marina\\.conda\\envs\\env_mlops_kidney_project\\lib\\site-packages (from anyio->httpx>=0.23.0->dagshub) (1.2.2)\n",
      "Requirement already satisfied: urllib3<1.27,>=1.25.4 in c:\\users\\marina\\.conda\\envs\\env_mlops_kidney_project\\lib\\site-packages (from botocore<1.36.0,>=1.35.46->boto3->dagshub) (1.26.20)\n",
      "Requirement already satisfied: smmap<6,>=3.0.1 in c:\\users\\marina\\.conda\\envs\\env_mlops_kidney_project\\lib\\site-packages (from gitdb<5,>=4.0.1->GitPython>=3.1.29->dagshub) (5.0.1)\n",
      "Requirement already satisfied: mdurl~=0.1 in c:\\users\\marina\\.conda\\envs\\env_mlops_kidney_project\\lib\\site-packages (from markdown-it-py>=2.2.0->rich>=13.1.0->dagshub) (0.1.2)\n",
      "Requirement already satisfied: packaging>=17.0 in c:\\users\\marina\\.conda\\envs\\env_mlops_kidney_project\\lib\\site-packages (from marshmallow<4.0.0,>=3.18.0->dataclasses-json->dagshub) (23.2)\n",
      "Requirement already satisfied: annotated-types>=0.6.0 in c:\\users\\marina\\.conda\\envs\\env_mlops_kidney_project\\lib\\site-packages (from pydantic>=2.0.0->dagshub-annotation-converter>=0.1.0->dagshub) (0.7.0)\n",
      "Requirement already satisfied: pydantic-core==2.23.4 in c:\\users\\marina\\.conda\\envs\\env_mlops_kidney_project\\lib\\site-packages (from pydantic>=2.0.0->dagshub-annotation-converter>=0.1.0->dagshub) (2.23.4)\n",
      "Requirement already satisfied: charset-normalizer<4,>=2 in c:\\users\\marina\\.conda\\envs\\env_mlops_kidney_project\\lib\\site-packages (from requests<3,>=2.26->gql[requests]->dagshub) (3.4.0)\n",
      "Requirement already satisfied: mypy-extensions>=0.3.0 in c:\\users\\marina\\.conda\\envs\\env_mlops_kidney_project\\lib\\site-packages (from typing-inspect<1,>=0.4.0->dataclasses-json->dagshub) (1.0.0)\n",
      "Requirement already satisfied: multidict>=4.0 in c:\\users\\marina\\.conda\\envs\\env_mlops_kidney_project\\lib\\site-packages (from yarl<2.0,>=1.6->gql[requests]->dagshub) (6.1.0)\n",
      "Requirement already satisfied: propcache>=0.2.0 in c:\\users\\marina\\.conda\\envs\\env_mlops_kidney_project\\lib\\site-packages (from yarl<2.0,>=1.6->gql[requests]->dagshub) (0.2.0)\n"
     ]
    }
   ],
   "source": [
    "! pip install dagshub"
   ]
  },
  {
   "cell_type": "code",
   "execution_count": 4,
   "metadata": {},
   "outputs": [
    {
     "name": "stdout",
     "output_type": "stream",
     "text": [
      "Requirement already satisfied: python-dotenv in c:\\users\\marina\\.conda\\envs\\env_mlops_kidney_project\\lib\\site-packages (1.0.1)\n"
     ]
    }
   ],
   "source": [
    "! pip install python-dotenv"
   ]
  },
  {
   "cell_type": "code",
   "execution_count": 5,
   "metadata": {},
   "outputs": [],
   "source": [
    "from dotenv import load_dotenv\n",
    "load_dotenv()\n",
    "\n",
    "os.environ[\"MLFLOW_TRACKING_URI\"]=os.getenv(\"MLFLOW_TRACKING_URI\")\n",
    "os.environ[\"MLFLOW_TRACKING_USERNAME\"]= os.getenv(\"MLFLOW_TRACKING_USERNAME\")\n",
    "os.environ[\"MLFLOW_TRACKING_PASSWORD\"]= os.getenv(\"MLFLOW_TRACKING_PASSWORD\")"
   ]
  },
  {
   "cell_type": "code",
   "execution_count": 7,
   "metadata": {},
   "outputs": [],
   "source": [
    "import tensorflow as tf"
   ]
  },
  {
   "cell_type": "code",
   "execution_count": 8,
   "metadata": {},
   "outputs": [],
   "source": [
    "model = tf.keras.models.load_model(\"artifacts/training/trained_model.h5\")"
   ]
  },
  {
   "cell_type": "markdown",
   "metadata": {},
   "source": [
    "### Entity"
   ]
  },
  {
   "cell_type": "code",
   "execution_count": 9,
   "metadata": {},
   "outputs": [],
   "source": [
    "from dataclasses import dataclass\n",
    "from pathlib import Path\n",
    "\n",
    "@dataclass(frozen=True)\n",
    "class EvaluationConfig:\n",
    "    path_of_model: Path\n",
    "    training_data: Path\n",
    "    all_params: dict\n",
    "    mlflow_uri: str\n",
    "    params_image_size: list\n",
    "    params_batch_size: int"
   ]
  },
  {
   "cell_type": "markdown",
   "metadata": {},
   "source": [
    "### Config. Manager"
   ]
  },
  {
   "cell_type": "code",
   "execution_count": 10,
   "metadata": {},
   "outputs": [],
   "source": [
    "from cnnClassifier.constants import *\n",
    "from cnnClassifier.utils.common import read_yaml, create_directories, save_json"
   ]
  },
  {
   "cell_type": "code",
   "execution_count": 11,
   "metadata": {},
   "outputs": [],
   "source": [
    "class ConfigurationManager:\n",
    "    def __init__(\n",
    "        self, \n",
    "        config_filepath = CONFIG_FILE_PATH,\n",
    "        params_filepath = PARAMS_FILE_PATH):\n",
    "        self.config = read_yaml(config_filepath)\n",
    "        self.params = read_yaml(params_filepath)\n",
    "        create_directories([self.config.artifacts_root])\n",
    "\n",
    "    \n",
    "    def get_evaluation_config(self) -> EvaluationConfig:\n",
    "        eval_config = EvaluationConfig(\n",
    "            path_of_model=\"artifacts/training/trained_model.h5\",\n",
    "            training_data=\"artifacts/data_ingestion/kidney-ct-scan-image\",\n",
    "            mlflow_uri = os.getenv(\"MLFLOW_TRACKING_URI\"),\n",
    "            all_params=self.params,\n",
    "            params_image_size=self.params.IMAGE_SIZE,\n",
    "            params_batch_size=self.params.BATCH_SIZE\n",
    "        )\n",
    "        return eval_config\n",
    "\n"
   ]
  },
  {
   "cell_type": "markdown",
   "metadata": {},
   "source": [
    "### Components"
   ]
  },
  {
   "cell_type": "code",
   "execution_count": 12,
   "metadata": {},
   "outputs": [],
   "source": [
    "import tensorflow as tf\n",
    "from pathlib import Path\n",
    "import mlflow\n",
    "import mlflow.keras\n",
    "from urllib.parse import urlparse\n",
    "\n",
    "class Evaluation:\n",
    "    def __init__(self, config: EvaluationConfig):\n",
    "        self.config = config\n",
    "\n",
    "    \n",
    "    def _valid_generator(self):\n",
    "\n",
    "        datagenerator_kwargs = dict(\n",
    "            rescale = 1./255,\n",
    "            validation_split=0.30\n",
    "        )\n",
    "\n",
    "        dataflow_kwargs = dict(\n",
    "            target_size=self.config.params_image_size[:-1],\n",
    "            batch_size=self.config.params_batch_size,\n",
    "            interpolation=\"bilinear\"\n",
    "        )\n",
    "\n",
    "        valid_datagenerator = tf.keras.preprocessing.image.ImageDataGenerator(\n",
    "            **datagenerator_kwargs\n",
    "        )\n",
    "\n",
    "        self.valid_generator = valid_datagenerator.flow_from_directory(\n",
    "            directory=self.config.training_data,\n",
    "            subset=\"validation\",\n",
    "            shuffle=False,\n",
    "            **dataflow_kwargs\n",
    "        )\n",
    "\n",
    "\n",
    "    @staticmethod\n",
    "    def load_model(path: Path) -> tf.keras.Model:\n",
    "        return tf.keras.models.load_model(path)\n",
    "    \n",
    "    def evaluation(self):\n",
    "        self.model = self.load_model(self.config.path_of_model)\n",
    "        self._valid_generator()\n",
    "        self.score = model.evaluate(self.valid_generator)\n",
    "        self.save_score()\n",
    "\n",
    "    def save_score(self):\n",
    "        scores = {\"loss\": self.score[0], \"accuracy\": self.score[1]}\n",
    "        save_json(path=Path(\"scores.json\"), data=scores)\n",
    "\n",
    "    \n",
    "    def log_into_mlflow(self):\n",
    "        mlflow.set_registry_uri(self.config.mlflow_uri)\n",
    "        tracking_url_type_store = urlparse(mlflow.get_tracking_uri()).scheme\n",
    "        \n",
    "        with mlflow.start_run():\n",
    "            mlflow.log_params(self.config.all_params)\n",
    "            mlflow.log_metrics(\n",
    "                {\"loss\": self.score[0], \"accuracy\": self.score[1]}\n",
    "            )\n",
    "            # Model registry does not work with file store\n",
    "            if tracking_url_type_store != \"file\":\n",
    "\n",
    "                # Register the model\n",
    "                # There are other ways to use the Model Registry, which depends on the use case,\n",
    "                # please refer to the doc for more information:\n",
    "                # https://mlflow.org/docs/latest/model-registry.html#api-workflow\n",
    "                mlflow.keras.log_model(self.model, \"model\", registered_model_name=\"VGG16Model\")\n",
    "            else:\n",
    "                mlflow.keras.log_model(self.model, \"model\")\n"
   ]
  },
  {
   "cell_type": "markdown",
   "metadata": {},
   "source": [
    "### Pipeline"
   ]
  },
  {
   "cell_type": "code",
   "execution_count": 13,
   "metadata": {},
   "outputs": [
    {
     "name": "stdout",
     "output_type": "stream",
     "text": [
      "[2024-10-22 19:26:56,117: INFO: common: yaml file: config\\config.yaml loaded successfully]\n",
      "[2024-10-22 19:26:56,127: INFO: common: yaml file: params.yaml loaded successfully]\n",
      "[2024-10-22 19:26:56,131: INFO: common: created directory at: artifacts]\n",
      "Found 139 images belonging to 2 classes.\n",
      "9/9 [==============================] - 69s 7s/step - loss: 17.1494 - accuracy: 0.5180\n",
      "[2024-10-22 19:28:06,058: INFO: common: json file saved at: scores.json]\n"
     ]
    },
    {
     "name": "stderr",
     "output_type": "stream",
     "text": [
      "2024/10/22 19:28:08 WARNING mlflow.tensorflow: You are saving a TensorFlow Core model or Keras model without a signature. Inference with mlflow.pyfunc.spark_udf() will not work unless the model's pyfunc representation accepts pandas DataFrames as inference inputs.\n"
     ]
    },
    {
     "name": "stdout",
     "output_type": "stream",
     "text": [
      "[2024-10-22 19:28:13,384: WARNING: save: Found untraced functions such as _jit_compiled_convolution_op, _jit_compiled_convolution_op, _jit_compiled_convolution_op, _jit_compiled_convolution_op, _jit_compiled_convolution_op while saving (showing 5 of 14). These functions will not be directly callable after loading.]\n",
      "INFO:tensorflow:Assets written to: C:\\Users\\Marina\\AppData\\Local\\Temp\\tmpvvlmanas\\model\\data\\model\\assets\n",
      "[2024-10-22 19:28:15,629: INFO: builder_impl: Assets written to: C:\\Users\\Marina\\AppData\\Local\\Temp\\tmpvvlmanas\\model\\data\\model\\assets]\n"
     ]
    },
    {
     "name": "stderr",
     "output_type": "stream",
     "text": [
      "c:\\Users\\Marina\\.conda\\envs\\env_mlops_kidney_project\\lib\\site-packages\\_distutils_hack\\__init__.py:31: UserWarning: Setuptools is replacing distutils. Support for replacing an already imported distutils is deprecated. In the future, this condition will fail. Register concerns at https://github.com/pypa/setuptools/issues/new?template=distutils-deprecation.yml\n",
      "  warnings.warn(\n",
      "Registered model 'VGG16Model' already exists. Creating a new version of this model...\n",
      "2024/10/22 19:29:10 INFO mlflow.tracking._model_registry.client: Waiting up to 300 seconds for model version to finish creation.                     Model name: VGG16Model, version 2\n",
      "Created version '2' of model 'VGG16Model'.\n"
     ]
    }
   ],
   "source": [
    "try:\n",
    "    config = ConfigurationManager()\n",
    "    eval_config = config.get_evaluation_config()\n",
    "    evaluation = Evaluation(eval_config)\n",
    "    evaluation.evaluation()\n",
    "    evaluation.log_into_mlflow()\n",
    "\n",
    "except Exception as e:\n",
    "   raise e"
   ]
  }
 ],
 "metadata": {
  "kernelspec": {
   "display_name": "env_mlops_kidney_project",
   "language": "python",
   "name": "python3"
  },
  "language_info": {
   "codemirror_mode": {
    "name": "ipython",
    "version": 3
   },
   "file_extension": ".py",
   "mimetype": "text/x-python",
   "name": "python",
   "nbconvert_exporter": "python",
   "pygments_lexer": "ipython3",
   "version": "3.8.20"
  }
 },
 "nbformat": 4,
 "nbformat_minor": 2
}
